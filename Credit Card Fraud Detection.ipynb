{
 "cells": [
  {
   "cell_type": "markdown",
   "metadata": {},
   "source": [
    "# Credit Card Fraud Detection"
   ]
  },
  {
   "cell_type": "markdown",
   "metadata": {},
   "source": [
    "<a id=\"contents\"></a>\n",
    "### Contents\n",
    "#### 1. [Introduction](#intro)</br>\n",
    "#### 2. [Data Preprocessing](#preprocessing)</br>\n",
    "#### 3. [Handling Imbalance](#imbalance)</br>\n",
    "#### 4. [Model Evaluation](#evaluation)</br>\n",
    "#### 5. [Conclusions](#conclusions)</br>\n"
   ]
  },
  {
   "cell_type": "markdown",
   "metadata": {},
   "source": [
    "<a id=\"intro\"></a>\n",
    "## Introduction\n",
    "\n",
    "Credit card fraud is the unauthorized use of a credit or debit card or a similar payment tool, to fraudulently obtain money or property.\n",
    "In 2018, money lost from fraud involving credit cards worldwide reached $27.85 billion.\n",
    "It is important that credit card companies are able to detect and decline fraudulent credit card transactions so that their customers are not wrongly charged.\n",
    "This aim of this project is to create a model to detect such fraudulent transactions using data from previous transactions, gotten from [Credit Card Fraud Detection | Kaggle](https://www.kaggle.com/mlg-ulb/creditcardfraud).\n",
    "\n",
    "## Dataset Description\n",
    "\n",
    "The Dataset contains transactions made in September 2013 by European cardholders.\n",
    "It presents transactions that occurred in two days. It contains 284,807 instances, each representing a transaction. It contains 30 features. Features V1, V2, ... , V28 are the principal components obtained with PCA; the only features which have not been transformed with PCA are 'Time' and 'Amount'. It contains only numerical input variables which are the result of a PCA transformation. \n",
    "\n",
    "| Column | Type | Description |\n",
    "| --- | :---: |:--- |\n",
    "| Time | continuous | seconds elapsed between each transaction and the first transaction in the dataset |\n",
    "| V1 | continuous | principal components obtained with PCA |\n",
    "| V2 | continuous | principal components obtained with PCA |\n",
    "| V3 | continuous | principal components obtained with PCA |\n",
    "| V4 | continuous | principal components obtained with PCA |\n",
    "| ... | ... | ... |\n",
    "| V26 | continuous | principal components obtained with PCA |\n",
    "| V27 | continuous | principal components obtained with PCA |\n",
    "| V28 | continuous | principal components obtained with PCA |\n",
    "| Amount | continuous | transaction amount |\n",
    "| Class | continuous | response variable, 1 for fraud and 0 otherwise |\n"
   ]
  },
  {
   "cell_type": "code",
   "execution_count": 8,
   "metadata": {},
   "outputs": [],
   "source": [
    "import numpy as np\n",
    "import pandas as pd\n",
    "from sklearn.model_selection import train_test_split, cross_val_score, KFold, StratifiedKFold\n",
    "from sklearn.preprocessing import StandardScaler\n",
    "from sklearn.svm import SVC\n",
    "from sklearn.naive_bayes import GaussianNB\n",
    "from sklearn.cluster import KMeans\n",
    "from sklearn.tree import DecisionTreeClassifier\n",
    "from sklearn.ensemble import RandomForestClassifier\n",
    "from sklearn.linear_model import LogisticRegression, SGDClassifier\n",
    "import matplotlib.pyplot as plt\n",
    "%matplotlib inline\n",
    "from sklearn.metrics import roc_auc_score, f1_score, mean_squared_error, average_precision_score, roc_curve\n",
    "from imblearn.over_sampling import SMOTE\n",
    "from imblearn.under_sampling import RandomUnderSampler\n",
    "from imblearn.pipeline import Pipeline\n",
    "import pickle\n",
    "import joblib"
   ]
  },
  {
   "cell_type": "code",
   "execution_count": 9,
   "metadata": {},
   "outputs": [
    {
     "name": "stdout",
     "output_type": "stream",
     "text": [
      "<class 'pandas.core.frame.DataFrame'>\n",
      "RangeIndex: 50000 entries, 0 to 49999\n",
      "Data columns (total 31 columns):\n",
      " #   Column  Non-Null Count  Dtype  \n",
      "---  ------  --------------  -----  \n",
      " 0   Time    50000 non-null  float64\n",
      " 1   V1      50000 non-null  float64\n",
      " 2   V2      50000 non-null  float64\n",
      " 3   V3      50000 non-null  float64\n",
      " 4   V4      50000 non-null  float64\n",
      " 5   V5      50000 non-null  float64\n",
      " 6   V6      50000 non-null  float64\n",
      " 7   V7      50000 non-null  float64\n",
      " 8   V8      50000 non-null  float64\n",
      " 9   V9      50000 non-null  float64\n",
      " 10  V10     50000 non-null  float64\n",
      " 11  V11     50000 non-null  float64\n",
      " 12  V12     50000 non-null  float64\n",
      " 13  V13     50000 non-null  float64\n",
      " 14  V14     50000 non-null  float64\n",
      " 15  V15     50000 non-null  float64\n",
      " 16  V16     50000 non-null  float64\n",
      " 17  V17     50000 non-null  float64\n",
      " 18  V18     50000 non-null  float64\n",
      " 19  V19     50000 non-null  float64\n",
      " 20  V20     50000 non-null  float64\n",
      " 21  V21     50000 non-null  float64\n",
      " 22  V22     50000 non-null  float64\n",
      " 23  V23     50000 non-null  float64\n",
      " 24  V24     50000 non-null  float64\n",
      " 25  V25     50000 non-null  float64\n",
      " 26  V26     50000 non-null  float64\n",
      " 27  V27     50000 non-null  float64\n",
      " 28  V28     50000 non-null  float64\n",
      " 29  Amount  50000 non-null  float64\n",
      " 30  Class   50000 non-null  int64  \n",
      "dtypes: float64(30), int64(1)\n",
      "memory usage: 11.8 MB\n"
     ]
    }
   ],
   "source": [
    "data = pd.read_csv(\"fraudtest.csv\")\n",
    "data.info()"
   ]
  },
  {
   "cell_type": "code",
   "execution_count": 10,
   "metadata": {},
   "outputs": [
    {
     "data": {
      "text/plain": [
       "0    49509\n",
       "1      491\n",
       "Name: Class, dtype: int64"
      ]
     },
     "execution_count": 10,
     "metadata": {},
     "output_type": "execute_result"
    }
   ],
   "source": [
    "data.Class.value_counts()"
   ]
  },
  {
   "cell_type": "markdown",
   "metadata": {},
   "source": [
    "This shows an imbalanced dataset, with only 492 instances classified as fraud, out of 284,807."
   ]
  },
  {
   "cell_type": "code",
   "execution_count": 11,
   "metadata": {
    "scrolled": true
   },
   "outputs": [
    {
     "data": {
      "text/html": [
       "<div>\n",
       "<style scoped>\n",
       "    .dataframe tbody tr th:only-of-type {\n",
       "        vertical-align: middle;\n",
       "    }\n",
       "\n",
       "    .dataframe tbody tr th {\n",
       "        vertical-align: top;\n",
       "    }\n",
       "\n",
       "    .dataframe thead th {\n",
       "        text-align: right;\n",
       "    }\n",
       "</style>\n",
       "<table border=\"1\" class=\"dataframe\">\n",
       "  <thead>\n",
       "    <tr style=\"text-align: right;\">\n",
       "      <th></th>\n",
       "      <th>Time</th>\n",
       "      <th>V1</th>\n",
       "      <th>V2</th>\n",
       "      <th>V3</th>\n",
       "      <th>V4</th>\n",
       "      <th>V5</th>\n",
       "      <th>V6</th>\n",
       "      <th>V7</th>\n",
       "      <th>V8</th>\n",
       "      <th>V9</th>\n",
       "      <th>...</th>\n",
       "      <th>V21</th>\n",
       "      <th>V22</th>\n",
       "      <th>V23</th>\n",
       "      <th>V24</th>\n",
       "      <th>V25</th>\n",
       "      <th>V26</th>\n",
       "      <th>V27</th>\n",
       "      <th>V28</th>\n",
       "      <th>Amount</th>\n",
       "      <th>Class</th>\n",
       "    </tr>\n",
       "  </thead>\n",
       "  <tbody>\n",
       "    <tr>\n",
       "      <th>count</th>\n",
       "      <td>50000.00000</td>\n",
       "      <td>50000.000000</td>\n",
       "      <td>50000.000000</td>\n",
       "      <td>50000.000000</td>\n",
       "      <td>50000.000000</td>\n",
       "      <td>50000.000000</td>\n",
       "      <td>50000.000000</td>\n",
       "      <td>50000.000000</td>\n",
       "      <td>50000.000000</td>\n",
       "      <td>50000.000000</td>\n",
       "      <td>...</td>\n",
       "      <td>50000.000000</td>\n",
       "      <td>50000.000000</td>\n",
       "      <td>50000.000000</td>\n",
       "      <td>50000.000000</td>\n",
       "      <td>50000.000000</td>\n",
       "      <td>50000.000000</td>\n",
       "      <td>50000.000000</td>\n",
       "      <td>50000.000000</td>\n",
       "      <td>50000.000000</td>\n",
       "      <td>50000.000000</td>\n",
       "    </tr>\n",
       "    <tr>\n",
       "      <th>mean</th>\n",
       "      <td>29438.75378</td>\n",
       "      <td>-0.265152</td>\n",
       "      <td>0.029112</td>\n",
       "      <td>0.649682</td>\n",
       "      <td>0.210950</td>\n",
       "      <td>-0.271028</td>\n",
       "      <td>0.097482</td>\n",
       "      <td>-0.150267</td>\n",
       "      <td>0.047762</td>\n",
       "      <td>0.104772</td>\n",
       "      <td>...</td>\n",
       "      <td>-0.024642</td>\n",
       "      <td>-0.105037</td>\n",
       "      <td>-0.039150</td>\n",
       "      <td>0.007918</td>\n",
       "      <td>0.134556</td>\n",
       "      <td>0.021055</td>\n",
       "      <td>0.004846</td>\n",
       "      <td>0.004879</td>\n",
       "      <td>93.631233</td>\n",
       "      <td>0.009820</td>\n",
       "    </tr>\n",
       "    <tr>\n",
       "      <th>std</th>\n",
       "      <td>14795.85712</td>\n",
       "      <td>1.954842</td>\n",
       "      <td>1.676042</td>\n",
       "      <td>1.659407</td>\n",
       "      <td>1.446513</td>\n",
       "      <td>1.460624</td>\n",
       "      <td>1.319564</td>\n",
       "      <td>1.450674</td>\n",
       "      <td>1.347921</td>\n",
       "      <td>1.238396</td>\n",
       "      <td>...</td>\n",
       "      <td>0.826037</td>\n",
       "      <td>0.651608</td>\n",
       "      <td>0.601349</td>\n",
       "      <td>0.593461</td>\n",
       "      <td>0.441032</td>\n",
       "      <td>0.501325</td>\n",
       "      <td>0.403648</td>\n",
       "      <td>0.336915</td>\n",
       "      <td>253.606737</td>\n",
       "      <td>0.098609</td>\n",
       "    </tr>\n",
       "    <tr>\n",
       "      <th>min</th>\n",
       "      <td>0.00000</td>\n",
       "      <td>-56.407510</td>\n",
       "      <td>-72.715728</td>\n",
       "      <td>-32.965346</td>\n",
       "      <td>-5.172595</td>\n",
       "      <td>-42.147898</td>\n",
       "      <td>-26.160506</td>\n",
       "      <td>-43.557242</td>\n",
       "      <td>-41.484823</td>\n",
       "      <td>-13.434066</td>\n",
       "      <td>...</td>\n",
       "      <td>-22.797604</td>\n",
       "      <td>-8.887017</td>\n",
       "      <td>-26.751119</td>\n",
       "      <td>-2.836627</td>\n",
       "      <td>-7.495741</td>\n",
       "      <td>-1.577118</td>\n",
       "      <td>-8.567638</td>\n",
       "      <td>-9.617915</td>\n",
       "      <td>0.000000</td>\n",
       "      <td>0.000000</td>\n",
       "    </tr>\n",
       "    <tr>\n",
       "      <th>25%</th>\n",
       "      <td>22051.50000</td>\n",
       "      <td>-1.002272</td>\n",
       "      <td>-0.561608</td>\n",
       "      <td>0.201506</td>\n",
       "      <td>-0.716851</td>\n",
       "      <td>-0.872898</td>\n",
       "      <td>-0.641968</td>\n",
       "      <td>-0.613875</td>\n",
       "      <td>-0.147117</td>\n",
       "      <td>-0.625216</td>\n",
       "      <td>...</td>\n",
       "      <td>-0.231201</td>\n",
       "      <td>-0.529290</td>\n",
       "      <td>-0.179183</td>\n",
       "      <td>-0.322645</td>\n",
       "      <td>-0.128707</td>\n",
       "      <td>-0.330422</td>\n",
       "      <td>-0.063227</td>\n",
       "      <td>-0.006800</td>\n",
       "      <td>7.580000</td>\n",
       "      <td>0.000000</td>\n",
       "    </tr>\n",
       "    <tr>\n",
       "      <th>50%</th>\n",
       "      <td>33526.00000</td>\n",
       "      <td>-0.252947</td>\n",
       "      <td>0.082341</td>\n",
       "      <td>0.788559</td>\n",
       "      <td>0.201183</td>\n",
       "      <td>-0.291561</td>\n",
       "      <td>-0.154373</td>\n",
       "      <td>-0.080411</td>\n",
       "      <td>0.059464</td>\n",
       "      <td>0.003736</td>\n",
       "      <td>...</td>\n",
       "      <td>-0.066917</td>\n",
       "      <td>-0.080454</td>\n",
       "      <td>-0.051569</td>\n",
       "      <td>0.061950</td>\n",
       "      <td>0.174950</td>\n",
       "      <td>-0.071755</td>\n",
       "      <td>0.009396</td>\n",
       "      <td>0.022241</td>\n",
       "      <td>25.000000</td>\n",
       "      <td>0.000000</td>\n",
       "    </tr>\n",
       "    <tr>\n",
       "      <th>75%</th>\n",
       "      <td>39087.00000</td>\n",
       "      <td>1.154809</td>\n",
       "      <td>0.741986</td>\n",
       "      <td>1.426597</td>\n",
       "      <td>1.084470</td>\n",
       "      <td>0.282793</td>\n",
       "      <td>0.492039</td>\n",
       "      <td>0.422461</td>\n",
       "      <td>0.335180</td>\n",
       "      <td>0.809937</td>\n",
       "      <td>...</td>\n",
       "      <td>0.110780</td>\n",
       "      <td>0.310530</td>\n",
       "      <td>0.079312</td>\n",
       "      <td>0.401225</td>\n",
       "      <td>0.421911</td>\n",
       "      <td>0.300642</td>\n",
       "      <td>0.085266</td>\n",
       "      <td>0.077096</td>\n",
       "      <td>85.702500</td>\n",
       "      <td>0.000000</td>\n",
       "    </tr>\n",
       "    <tr>\n",
       "      <th>max</th>\n",
       "      <td>170348.00000</td>\n",
       "      <td>2.132386</td>\n",
       "      <td>22.057729</td>\n",
       "      <td>4.101716</td>\n",
       "      <td>16.491217</td>\n",
       "      <td>34.801666</td>\n",
       "      <td>22.529298</td>\n",
       "      <td>36.677268</td>\n",
       "      <td>20.007208</td>\n",
       "      <td>10.392889</td>\n",
       "      <td>...</td>\n",
       "      <td>27.202839</td>\n",
       "      <td>8.361985</td>\n",
       "      <td>17.297845</td>\n",
       "      <td>4.014444</td>\n",
       "      <td>5.525093</td>\n",
       "      <td>3.517346</td>\n",
       "      <td>11.135740</td>\n",
       "      <td>33.847808</td>\n",
       "      <td>12910.930000</td>\n",
       "      <td>1.000000</td>\n",
       "    </tr>\n",
       "  </tbody>\n",
       "</table>\n",
       "<p>8 rows × 31 columns</p>\n",
       "</div>"
      ],
      "text/plain": [
       "               Time            V1            V2            V3            V4  \\\n",
       "count   50000.00000  50000.000000  50000.000000  50000.000000  50000.000000   \n",
       "mean    29438.75378     -0.265152      0.029112      0.649682      0.210950   \n",
       "std     14795.85712      1.954842      1.676042      1.659407      1.446513   \n",
       "min         0.00000    -56.407510    -72.715728    -32.965346     -5.172595   \n",
       "25%     22051.50000     -1.002272     -0.561608      0.201506     -0.716851   \n",
       "50%     33526.00000     -0.252947      0.082341      0.788559      0.201183   \n",
       "75%     39087.00000      1.154809      0.741986      1.426597      1.084470   \n",
       "max    170348.00000      2.132386     22.057729      4.101716     16.491217   \n",
       "\n",
       "                 V5            V6            V7            V8            V9  \\\n",
       "count  50000.000000  50000.000000  50000.000000  50000.000000  50000.000000   \n",
       "mean      -0.271028      0.097482     -0.150267      0.047762      0.104772   \n",
       "std        1.460624      1.319564      1.450674      1.347921      1.238396   \n",
       "min      -42.147898    -26.160506    -43.557242    -41.484823    -13.434066   \n",
       "25%       -0.872898     -0.641968     -0.613875     -0.147117     -0.625216   \n",
       "50%       -0.291561     -0.154373     -0.080411      0.059464      0.003736   \n",
       "75%        0.282793      0.492039      0.422461      0.335180      0.809937   \n",
       "max       34.801666     22.529298     36.677268     20.007208     10.392889   \n",
       "\n",
       "       ...           V21           V22           V23           V24  \\\n",
       "count  ...  50000.000000  50000.000000  50000.000000  50000.000000   \n",
       "mean   ...     -0.024642     -0.105037     -0.039150      0.007918   \n",
       "std    ...      0.826037      0.651608      0.601349      0.593461   \n",
       "min    ...    -22.797604     -8.887017    -26.751119     -2.836627   \n",
       "25%    ...     -0.231201     -0.529290     -0.179183     -0.322645   \n",
       "50%    ...     -0.066917     -0.080454     -0.051569      0.061950   \n",
       "75%    ...      0.110780      0.310530      0.079312      0.401225   \n",
       "max    ...     27.202839      8.361985     17.297845      4.014444   \n",
       "\n",
       "                V25           V26           V27           V28        Amount  \\\n",
       "count  50000.000000  50000.000000  50000.000000  50000.000000  50000.000000   \n",
       "mean       0.134556      0.021055      0.004846      0.004879     93.631233   \n",
       "std        0.441032      0.501325      0.403648      0.336915    253.606737   \n",
       "min       -7.495741     -1.577118     -8.567638     -9.617915      0.000000   \n",
       "25%       -0.128707     -0.330422     -0.063227     -0.006800      7.580000   \n",
       "50%        0.174950     -0.071755      0.009396      0.022241     25.000000   \n",
       "75%        0.421911      0.300642      0.085266      0.077096     85.702500   \n",
       "max        5.525093      3.517346     11.135740     33.847808  12910.930000   \n",
       "\n",
       "              Class  \n",
       "count  50000.000000  \n",
       "mean       0.009820  \n",
       "std        0.098609  \n",
       "min        0.000000  \n",
       "25%        0.000000  \n",
       "50%        0.000000  \n",
       "75%        0.000000  \n",
       "max        1.000000  \n",
       "\n",
       "[8 rows x 31 columns]"
      ]
     },
     "execution_count": 11,
     "metadata": {},
     "output_type": "execute_result"
    }
   ],
   "source": [
    "data.describe()"
   ]
  },
  {
   "cell_type": "code",
   "execution_count": 12,
   "metadata": {},
   "outputs": [],
   "source": [
    "traindata, evaldata = train_test_split(data, test_size = 0.33, random_state = 27)"
   ]
  },
  {
   "cell_type": "code",
   "execution_count": 13,
   "metadata": {
    "scrolled": true
   },
   "outputs": [
    {
     "name": "stdout",
     "output_type": "stream",
     "text": [
      "<class 'pandas.core.frame.DataFrame'>\n",
      "Int64Index: 33500 entries, 8966 to 5139\n",
      "Data columns (total 31 columns):\n",
      " #   Column  Non-Null Count  Dtype  \n",
      "---  ------  --------------  -----  \n",
      " 0   Time    33500 non-null  float64\n",
      " 1   V1      33500 non-null  float64\n",
      " 2   V2      33500 non-null  float64\n",
      " 3   V3      33500 non-null  float64\n",
      " 4   V4      33500 non-null  float64\n",
      " 5   V5      33500 non-null  float64\n",
      " 6   V6      33500 non-null  float64\n",
      " 7   V7      33500 non-null  float64\n",
      " 8   V8      33500 non-null  float64\n",
      " 9   V9      33500 non-null  float64\n",
      " 10  V10     33500 non-null  float64\n",
      " 11  V11     33500 non-null  float64\n",
      " 12  V12     33500 non-null  float64\n",
      " 13  V13     33500 non-null  float64\n",
      " 14  V14     33500 non-null  float64\n",
      " 15  V15     33500 non-null  float64\n",
      " 16  V16     33500 non-null  float64\n",
      " 17  V17     33500 non-null  float64\n",
      " 18  V18     33500 non-null  float64\n",
      " 19  V19     33500 non-null  float64\n",
      " 20  V20     33500 non-null  float64\n",
      " 21  V21     33500 non-null  float64\n",
      " 22  V22     33500 non-null  float64\n",
      " 23  V23     33500 non-null  float64\n",
      " 24  V24     33500 non-null  float64\n",
      " 25  V25     33500 non-null  float64\n",
      " 26  V26     33500 non-null  float64\n",
      " 27  V27     33500 non-null  float64\n",
      " 28  V28     33500 non-null  float64\n",
      " 29  Amount  33500 non-null  float64\n",
      " 30  Class   33500 non-null  int64  \n",
      "dtypes: float64(30), int64(1)\n",
      "memory usage: 8.2 MB\n"
     ]
    }
   ],
   "source": [
    "traindata.info()"
   ]
  },
  {
   "cell_type": "code",
   "execution_count": 14,
   "metadata": {},
   "outputs": [
    {
     "name": "stdout",
     "output_type": "stream",
     "text": [
      "<class 'pandas.core.frame.DataFrame'>\n",
      "Int64Index: 16500 entries, 39012 to 4296\n",
      "Data columns (total 31 columns):\n",
      " #   Column  Non-Null Count  Dtype  \n",
      "---  ------  --------------  -----  \n",
      " 0   Time    16500 non-null  float64\n",
      " 1   V1      16500 non-null  float64\n",
      " 2   V2      16500 non-null  float64\n",
      " 3   V3      16500 non-null  float64\n",
      " 4   V4      16500 non-null  float64\n",
      " 5   V5      16500 non-null  float64\n",
      " 6   V6      16500 non-null  float64\n",
      " 7   V7      16500 non-null  float64\n",
      " 8   V8      16500 non-null  float64\n",
      " 9   V9      16500 non-null  float64\n",
      " 10  V10     16500 non-null  float64\n",
      " 11  V11     16500 non-null  float64\n",
      " 12  V12     16500 non-null  float64\n",
      " 13  V13     16500 non-null  float64\n",
      " 14  V14     16500 non-null  float64\n",
      " 15  V15     16500 non-null  float64\n",
      " 16  V16     16500 non-null  float64\n",
      " 17  V17     16500 non-null  float64\n",
      " 18  V18     16500 non-null  float64\n",
      " 19  V19     16500 non-null  float64\n",
      " 20  V20     16500 non-null  float64\n",
      " 21  V21     16500 non-null  float64\n",
      " 22  V22     16500 non-null  float64\n",
      " 23  V23     16500 non-null  float64\n",
      " 24  V24     16500 non-null  float64\n",
      " 25  V25     16500 non-null  float64\n",
      " 26  V26     16500 non-null  float64\n",
      " 27  V27     16500 non-null  float64\n",
      " 28  V28     16500 non-null  float64\n",
      " 29  Amount  16500 non-null  float64\n",
      " 30  Class   16500 non-null  int64  \n",
      "dtypes: float64(30), int64(1)\n",
      "memory usage: 4.0 MB\n"
     ]
    }
   ],
   "source": [
    "evaldata.info()"
   ]
  },
  {
   "cell_type": "markdown",
   "metadata": {},
   "source": [
    "<a id=\"preprocessing\"></a>\n",
    "## Preprocessing"
   ]
  },
  {
   "cell_type": "markdown",
   "metadata": {},
   "source": [
    "Helper Functons to help with training. <br>\n",
    "[Back to Contents](#contents)"
   ]
  },
  {
   "cell_type": "code",
   "execution_count": 72,
   "metadata": {},
   "outputs": [],
   "source": [
    "#Some helper fuctions, for training, testing and evaluating.\n",
    "def evalscore(actual, predictions):\n",
    "    \"\"\"\n",
    "    Calculates the following Metrics: average precision score, roc_auc_score, f1 score and the average of the three.\n",
    "    \n",
    "    args:\n",
    "        actual: the actual values of the label.\n",
    "        predictions: the predictions made by the model.\n",
    "        \n",
    "    returns: a list of the metric scores [average precision score, roc_auc_score, f1 score, total average]  \n",
    "    \"\"\"\n",
    "    temp = [average_precision_score(actual, predictions), roc_auc_score(actual, predictions), f1_score(actual, predictions)]\n",
    "    temp = temp + [np.mean(temp)]\n",
    "    return temp\n",
    "\n",
    "\n",
    "def compareModels(models, xtrain, ytrain, xtest, ytest):\n",
    "    \"\"\"\n",
    "    Trains each model in models using xtrain and ytrain and evaluates on xtest and ytest.\n",
    "    It creates a dataframe showing the comparison.\n",
    "    \n",
    "    args:\n",
    "        models: a list of models to compare.\n",
    "        xtrain, ytrain: the features and labels for training.\n",
    "        xtest, ytest: the features and labels for evaluation.\n",
    "    \n",
    "    returns: tuple[trained_models, dataframe]\n",
    "            trained_models: a list of the trained models, dataframe: a dataframe showing the comparisons\n",
    "    \"\"\"\n",
    "    trained = []\n",
    "    dt = {}\n",
    "    for model in models:\n",
    "        model.fit(xtrain, ytrain)\n",
    "        preds = model.predict(xtest)\n",
    "        dt[str(model).rstrip(\"()\")] = evalscore(ytest, preds)\n",
    "        trained.append(model)\n",
    "    return trained, pd.DataFrame(dt, index = [\"precision score\", \"roc_auc_score\", \"f1 score\", \"total average\"])\n",
    "\n",
    "    \n",
    "def compareModelsCV(models, x, y):\n",
    "    \"\"\"\n",
    "    Trains each model in models using and the models are validated using KFold cross validation.\n",
    "    It creates a dataframe showing the comparison.\n",
    "    \n",
    "    args:\n",
    "        models: a list of models to compare.\n",
    "        xtrain, ytrain: the features and labels for training.\n",
    "        xtest, ytest: the features and labels for evaluation.\n",
    "    \n",
    "    returns: tuple[trained_models, dataframe]\n",
    "            trained_models: a list of the trained models, dataframe: a dataframe showing the comparisons\n",
    "    \"\"\"\n",
    "    trained = []\n",
    "    dt = {}\n",
    "    kf = KFold(n_splits = 5, shuffle = True)\n",
    "    for model in models:\n",
    "        scores = []\n",
    "        for tr, te in kf.split(x):\n",
    "            xtrain, xtest, ytrain, ytest = x[tr], x[te], y[tr], y[te]\n",
    "            model.fit(xtrain, ytrain)\n",
    "            preds = model.predict(xtest)\n",
    "            scores.append(evalscore(ytest, preds))       \n",
    "        dt[str(model).rstrip(\"()\")] = np.array(scores).mean(axis = 0)\n",
    "        trained.append(model)\n",
    "    return trained, pd.DataFrame(dt, index = [\"precision score\", \"roc_auc_score\", \"f1 score\", \"total average\"])\n",
    "\n",
    "def evalModels(models, x, actual):\n",
    "    \"\"\"Testing function\"\"\"\n",
    "    dt = {}\n",
    "    for model in models:\n",
    "        preds = model.predict(x)\n",
    "        dt[str(model).rstrip(\"()\")] = evalscore(actual, preds)\n",
    "    return pd.DataFrame(dt, index = [\"precision score\", \"roc_auc_score\", \"f1 score\", \"total average\"])"
   ]
  },
  {
   "cell_type": "markdown",
   "metadata": {},
   "source": [
    "<a id=\"imbalance\"></a>\n",
    "## Handling imbalanced nature of dataset\n",
    "[Back to Contents](#contents)"
   ]
  },
  {
   "cell_type": "markdown",
   "metadata": {},
   "source": [
    "### OverSampling\n",
    "The Original dataset has only 328 positive cases of Fraud, by using SMOTE, we Oversampled the positive cases to get an equal number of positive and negative cases. <br>"
   ]
  },
  {
   "cell_type": "code",
   "execution_count": 28,
   "metadata": {},
   "outputs": [
    {
     "name": "stdout",
     "output_type": "stream",
     "text": [
      "Original Dataset:\n",
      "0    33172\n",
      "1      328\n",
      "Name: Class, dtype: int64\n",
      "\n",
      "Resampled Dataset:\n",
      "1    33172\n",
      "0    33172\n",
      "Name: Class, dtype: int64\n"
     ]
    }
   ],
   "source": [
    "oversample = SMOTE()\n",
    "X, y = oversample.fit_resample(traindata.drop(\"Class\", axis = 1), traindata.Class)\n",
    "print(\"Original Dataset:\\n{}\\n\\nResampled Dataset:\\n{}\".format(traindata.Class.value_counts(), y.value_counts()))"
   ]
  },
  {
   "cell_type": "markdown",
   "metadata": {},
   "source": [
    "### UnderSampling\n",
    "The Original dataset has only 328 positive cases of Fraud, by using RandomUnderSampler(), we Oversampled the positive cases to get an equal number of positive and negative cases."
   ]
  },
  {
   "cell_type": "code",
   "execution_count": 39,
   "metadata": {},
   "outputs": [
    {
     "name": "stdout",
     "output_type": "stream",
     "text": [
      "Original Dataset:\n",
      "0    33172\n",
      "1      328\n",
      "Name: Class, dtype: int64\n",
      "\n",
      "Resampled Dataset:\n",
      "0    3280\n",
      "1     328\n",
      "Name: Class, dtype: int64\n"
     ]
    }
   ],
   "source": [
    "undersample = RandomUnderSampler(sampling_strategy = 0.1)\n",
    "X, y = undersample.fit_resample(traindata.drop(\"Class\", axis = 1), traindata.Class)\n",
    "print(\"Original Dataset:\\n{}\\n\\nResampled Dataset:\\n{}\".format(traindata.Class.value_counts(), y.value_counts()))"
   ]
  },
  {
   "cell_type": "markdown",
   "metadata": {},
   "source": [
    "### Mix of Oversampling and Undersampling"
   ]
  },
  {
   "cell_type": "code",
   "execution_count": 79,
   "metadata": {},
   "outputs": [
    {
     "name": "stdout",
     "output_type": "stream",
     "text": [
      "Original Dataset:\n",
      "0    33172\n",
      "1      328\n",
      "Name: Class, dtype: int64\n",
      "\n",
      "Resampled Dataset:\n",
      "0    33172\n",
      "1    16586\n",
      "Name: Class, dtype: int64\n"
     ]
    }
   ],
   "source": [
    "oversample = SMOTE(sampling_strategy = 0.5)\n",
    "undersample = RandomUnderSampler(sampling_strategy = 0.5)\n",
    "steps = [(\"over\", oversample), (\"under\", undersample)]\n",
    "pipe = Pipeline(steps = steps)\n",
    "X, y = pipe.fit_resample(traindata.drop(\"Class\", axis = 1), traindata.Class)\n",
    "print(\"Original Dataset:\\n{}\\n\\nResampled Dataset:\\n{}\".format(traindata.Class.value_counts(), y.value_counts()))"
   ]
  },
  {
   "cell_type": "markdown",
   "metadata": {},
   "source": [
    "We scaled the entire dataset to reduce bias/variance."
   ]
  },
  {
   "cell_type": "code",
   "execution_count": 80,
   "metadata": {},
   "outputs": [],
   "source": [
    "scaler = StandardScaler()\n",
    "scaled_data = scaler.fit_transform(X)\n",
    "scaled_data = pd.DataFrame(scaled_data, columns = X.columns)"
   ]
  },
  {
   "cell_type": "code",
   "execution_count": 81,
   "metadata": {},
   "outputs": [
    {
     "name": "stdout",
     "output_type": "stream",
     "text": [
      "Train shapes:\n",
      "xtrain: (33337, 30)\n",
      "ytrain: (33337,)\n",
      "\n",
      "Test shapes\n",
      "xtest: (16421, 30)\n",
      "ytest: (16421,)\n"
     ]
    }
   ],
   "source": [
    "xtrain, xtest, ytrain, ytest = train_test_split(scaled_data, y, test_size = 0.33, random_state = 43, stratify = y)\n",
    "print(\"Train shapes:\\nxtrain: {}\\nytrain: {}\\n\\nTest shapes\\nxtest: {}\\nytest: {}\".format(xtrain.shape, ytrain.shape, xtest.shape, ytest.shape))"
   ]
  },
  {
   "cell_type": "markdown",
   "metadata": {},
   "source": [
    "The data was trained with five different models; Support Vector Machine, Naive Bayes, Logistic Regression, Decision Trees and Random Forest."
   ]
  },
  {
   "cell_type": "code",
   "execution_count": 82,
   "metadata": {},
   "outputs": [],
   "source": [
    "svm = SVC()\n",
    "gnb = GaussianNB()\n",
    "logr = LogisticRegression()\n",
    "dt = DecisionTreeClassifier()\n",
    "rf = RandomForestClassifier()\n",
    "models = [svm, gnb, logr, dt, rf]"
   ]
  },
  {
   "cell_type": "markdown",
   "metadata": {},
   "source": [
    "Training a base model without any tuning and using all the features."
   ]
  },
  {
   "cell_type": "code",
   "execution_count": 83,
   "metadata": {
    "scrolled": false
   },
   "outputs": [
    {
     "data": {
      "text/html": [
       "<div>\n",
       "<style scoped>\n",
       "    .dataframe tbody tr th:only-of-type {\n",
       "        vertical-align: middle;\n",
       "    }\n",
       "\n",
       "    .dataframe tbody tr th {\n",
       "        vertical-align: top;\n",
       "    }\n",
       "\n",
       "    .dataframe thead th {\n",
       "        text-align: right;\n",
       "    }\n",
       "</style>\n",
       "<table border=\"1\" class=\"dataframe\">\n",
       "  <thead>\n",
       "    <tr style=\"text-align: right;\">\n",
       "      <th></th>\n",
       "      <th>SVC</th>\n",
       "      <th>GaussianNB</th>\n",
       "      <th>LogisticRegression</th>\n",
       "      <th>DecisionTreeClassifier</th>\n",
       "      <th>RandomForestClassifier</th>\n",
       "    </tr>\n",
       "  </thead>\n",
       "  <tbody>\n",
       "    <tr>\n",
       "      <th>precision score</th>\n",
       "      <td>0.992328</td>\n",
       "      <td>0.889501</td>\n",
       "      <td>0.980231</td>\n",
       "      <td>0.991820</td>\n",
       "      <td>0.998661</td>\n",
       "    </tr>\n",
       "    <tr>\n",
       "      <th>roc_auc_score</th>\n",
       "      <td>0.994611</td>\n",
       "      <td>0.937750</td>\n",
       "      <td>0.987441</td>\n",
       "      <td>0.997031</td>\n",
       "      <td>0.999361</td>\n",
       "    </tr>\n",
       "    <tr>\n",
       "      <th>f1 score</th>\n",
       "      <td>0.994401</td>\n",
       "      <td>0.924466</td>\n",
       "      <td>0.986173</td>\n",
       "      <td>0.995441</td>\n",
       "      <td>0.999178</td>\n",
       "    </tr>\n",
       "    <tr>\n",
       "      <th>total average</th>\n",
       "      <td>0.993780</td>\n",
       "      <td>0.917239</td>\n",
       "      <td>0.984615</td>\n",
       "      <td>0.994764</td>\n",
       "      <td>0.999066</td>\n",
       "    </tr>\n",
       "  </tbody>\n",
       "</table>\n",
       "</div>"
      ],
      "text/plain": [
       "                      SVC  GaussianNB  LogisticRegression  \\\n",
       "precision score  0.992328    0.889501            0.980231   \n",
       "roc_auc_score    0.994611    0.937750            0.987441   \n",
       "f1 score         0.994401    0.924466            0.986173   \n",
       "total average    0.993780    0.917239            0.984615   \n",
       "\n",
       "                 DecisionTreeClassifier  RandomForestClassifier  \n",
       "precision score                0.991820                0.998661  \n",
       "roc_auc_score                  0.997031                0.999361  \n",
       "f1 score                       0.995441                0.999178  \n",
       "total average                  0.994764                0.999066  "
      ]
     },
     "execution_count": 83,
     "metadata": {},
     "output_type": "execute_result"
    }
   ],
   "source": [
    "trained_models, summary = compareModels(models, xtrain, ytrain, xtest, ytest)\n",
    "summary"
   ]
  },
  {
   "cell_type": "markdown",
   "metadata": {},
   "source": [
    "Cross Validation on the base model."
   ]
  },
  {
   "cell_type": "code",
   "execution_count": 84,
   "metadata": {
    "scrolled": false
   },
   "outputs": [
    {
     "data": {
      "text/html": [
       "<div>\n",
       "<style scoped>\n",
       "    .dataframe tbody tr th:only-of-type {\n",
       "        vertical-align: middle;\n",
       "    }\n",
       "\n",
       "    .dataframe tbody tr th {\n",
       "        vertical-align: top;\n",
       "    }\n",
       "\n",
       "    .dataframe thead th {\n",
       "        text-align: right;\n",
       "    }\n",
       "</style>\n",
       "<table border=\"1\" class=\"dataframe\">\n",
       "  <thead>\n",
       "    <tr style=\"text-align: right;\">\n",
       "      <th></th>\n",
       "      <th>RandomForestClassifier</th>\n",
       "    </tr>\n",
       "  </thead>\n",
       "  <tbody>\n",
       "    <tr>\n",
       "      <th>precision score</th>\n",
       "      <td>0.998541</td>\n",
       "    </tr>\n",
       "    <tr>\n",
       "      <th>roc_auc_score</th>\n",
       "      <td>0.999291</td>\n",
       "    </tr>\n",
       "    <tr>\n",
       "      <th>f1 score</th>\n",
       "      <td>0.999099</td>\n",
       "    </tr>\n",
       "    <tr>\n",
       "      <th>total average</th>\n",
       "      <td>0.998977</td>\n",
       "    </tr>\n",
       "  </tbody>\n",
       "</table>\n",
       "</div>"
      ],
      "text/plain": [
       "                 RandomForestClassifier\n",
       "precision score                0.998541\n",
       "roc_auc_score                  0.999291\n",
       "f1 score                       0.999099\n",
       "total average                  0.998977"
      ]
     },
     "execution_count": 84,
     "metadata": {},
     "output_type": "execute_result"
    }
   ],
   "source": [
    "trained_models, summary = compareModelsCV([rf], scaled_data.values, y.values)\n",
    "summary"
   ]
  },
  {
   "cell_type": "markdown",
   "metadata": {},
   "source": [
    "<a id=\"evaluation\"></a>\n",
    "## Model Evaluation\n",
    "The evaluation metric chosen was the precision score. This was chosen bcause we want our model to predict the positive cases as correctly as possible. <br>\n",
    "[Back to Contents](#contents)"
   ]
  },
  {
   "cell_type": "code",
   "execution_count": 85,
   "metadata": {},
   "outputs": [],
   "source": [
    "scaled_test = scaler.fit_transform(evaldata.drop(\"Class\", axis = 1))\n",
    "scaled_test = pd.DataFrame(scaled_test, columns = evaldata.drop(\"Class\", axis= 1).columns)"
   ]
  },
  {
   "cell_type": "code",
   "execution_count": 86,
   "metadata": {},
   "outputs": [
    {
     "data": {
      "text/plain": [
       "0    16337\n",
       "1      163\n",
       "Name: Class, dtype: int64"
      ]
     },
     "execution_count": 86,
     "metadata": {},
     "output_type": "execute_result"
    }
   ],
   "source": [
    "y_test = evaldata.Class\n",
    "y_test.value_counts()"
   ]
  },
  {
   "cell_type": "code",
   "execution_count": 87,
   "metadata": {
    "scrolled": false
   },
   "outputs": [
    {
     "data": {
      "text/html": [
       "<div>\n",
       "<style scoped>\n",
       "    .dataframe tbody tr th:only-of-type {\n",
       "        vertical-align: middle;\n",
       "    }\n",
       "\n",
       "    .dataframe tbody tr th {\n",
       "        vertical-align: top;\n",
       "    }\n",
       "\n",
       "    .dataframe thead th {\n",
       "        text-align: right;\n",
       "    }\n",
       "</style>\n",
       "<table border=\"1\" class=\"dataframe\">\n",
       "  <thead>\n",
       "    <tr style=\"text-align: right;\">\n",
       "      <th></th>\n",
       "      <th>RandomForestClassifier</th>\n",
       "    </tr>\n",
       "  </thead>\n",
       "  <tbody>\n",
       "    <tr>\n",
       "      <th>precision score</th>\n",
       "      <td>0.011818</td>\n",
       "    </tr>\n",
       "    <tr>\n",
       "      <th>roc_auc_score</th>\n",
       "      <td>0.581095</td>\n",
       "    </tr>\n",
       "    <tr>\n",
       "      <th>f1 score</th>\n",
       "      <td>0.023821</td>\n",
       "    </tr>\n",
       "    <tr>\n",
       "      <th>total average</th>\n",
       "      <td>0.205578</td>\n",
       "    </tr>\n",
       "  </tbody>\n",
       "</table>\n",
       "</div>"
      ],
      "text/plain": [
       "                 RandomForestClassifier\n",
       "precision score                0.011818\n",
       "roc_auc_score                  0.581095\n",
       "f1 score                       0.023821\n",
       "total average                  0.205578"
      ]
     },
     "execution_count": 87,
     "metadata": {},
     "output_type": "execute_result"
    }
   ],
   "source": [
    "evalModels(trained_models, scaled_test, y_test)"
   ]
  },
  {
   "cell_type": "code",
   "execution_count": 19,
   "metadata": {},
   "outputs": [],
   "source": [
    "def rocplot(model, xtest, ytest):\n",
    "    pred = model.predict_proba(xtest)\n",
    "    fpr, tpr, thresholds = roc_curve(ytest, pred[:, 1])\n",
    "    plt.plot(fpr, tpr)\n",
    "    plt.xlim([0, 1])\n",
    "    plt.ylim([0, 1])\n",
    "    plt.xlabel(\"1 - specificity\")\n",
    "    plt.ylabel(\"sensitivity\")\n",
    "    plt.title(\"ROC AUC Curve\")\n",
    "    plt.show()"
   ]
  },
  {
   "cell_type": "code",
   "execution_count": 21,
   "metadata": {},
   "outputs": [
    {
     "data": {
      "image/png": "[encoded data removed]",
      "text/plain": [
       "<Figure size 432x288 with 1 Axes>"
      ]
     },
     "metadata": {
      "needs_background": "light"
     },
     "output_type": "display_data"
    }
   ],
   "source": [
    "rocplot(rf, xtest, ytest)"
   ]
  },
  {
   "cell_type": "code",
   "execution_count": 88,
   "metadata": {},
   "outputs": [],
   "source": [
    "exdata = pd.read_csv(\"fraud_data.csv\")\n",
    "scaled_test = scaler.fit_transform(exdata.drop(\"Class\", axis = 1))\n",
    "scaled_test = pd.DataFrame(scaled_test, columns = exdata.drop(\"Class\", axis= 1).columns)"
   ]
  },
  {
   "cell_type": "code",
   "execution_count": 89,
   "metadata": {},
   "outputs": [
    {
     "data": {
      "text/html": [
       "<div>\n",
       "<style scoped>\n",
       "    .dataframe tbody tr th:only-of-type {\n",
       "        vertical-align: middle;\n",
       "    }\n",
       "\n",
       "    .dataframe tbody tr th {\n",
       "        vertical-align: top;\n",
       "    }\n",
       "\n",
       "    .dataframe thead th {\n",
       "        text-align: right;\n",
       "    }\n",
       "</style>\n",
       "<table border=\"1\" class=\"dataframe\">\n",
       "  <thead>\n",
       "    <tr style=\"text-align: right;\">\n",
       "      <th></th>\n",
       "      <th>RandomForestClassifier</th>\n",
       "    </tr>\n",
       "  </thead>\n",
       "  <tbody>\n",
       "    <tr>\n",
       "      <th>precision score</th>\n",
       "      <td>0.087682</td>\n",
       "    </tr>\n",
       "    <tr>\n",
       "      <th>roc_auc_score</th>\n",
       "      <td>0.734143</td>\n",
       "    </tr>\n",
       "    <tr>\n",
       "      <th>f1 score</th>\n",
       "      <td>0.165900</td>\n",
       "    </tr>\n",
       "    <tr>\n",
       "      <th>total average</th>\n",
       "      <td>0.329242</td>\n",
       "    </tr>\n",
       "  </tbody>\n",
       "</table>\n",
       "</div>"
      ],
      "text/plain": [
       "                 RandomForestClassifier\n",
       "precision score                0.087682\n",
       "roc_auc_score                  0.734143\n",
       "f1 score                       0.165900\n",
       "total average                  0.329242"
      ]
     },
     "execution_count": 89,
     "metadata": {},
     "output_type": "execute_result"
    }
   ],
   "source": [
    "y_test = exdata.Class\n",
    "evalModels(trained_models, scaled_test, y_test)"
   ]
  },
  {
   "cell_type": "code",
   "execution_count": 42,
   "metadata": {},
   "outputs": [],
   "source": [
    "for k in trained_models:\n",
    "    joblib.dump(k, filename = \"pickles/\" + str(k).strip(\"()\") + \".joblib\")"
   ]
  },
  {
   "cell_type": "code",
   "execution_count": null,
   "metadata": {},
   "outputs": [],
   "source": []
  },
  {
   "cell_type": "code",
   "execution_count": null,
   "metadata": {},
   "outputs": [],
   "source": []
  },
  {
   "cell_type": "markdown",
   "metadata": {},
   "source": [
    "<a id=\"conclusions\"></a>\n",
    "## Conclusions"
   ]
  },
  {
   "cell_type": "code",
   "execution_count": null,
   "metadata": {},
   "outputs": [],
   "source": []
  }
 ],
 "metadata": {
  "kernelspec": {
   "display_name": "Python 3",
   "language": "python",
   "name": "python3"
  },
  "language_info": {
   "codemirror_mode": {
    "name": "ipython",
    "version": 3
   },
   "file_extension": ".py",
   "mimetype": "text/x-python",
   "name": "python",
   "nbconvert_exporter": "python",
   "pygments_lexer": "ipython3",
   "version": "3.8.5"
  }
 },
 "nbformat": 4,
 "nbformat_minor": 4
}
