{
 "cells": [
  {
   "cell_type": "markdown",
   "metadata": {
    "id": "sKFti9Bne2k4"
   },
   "source": [
    "# Credit Card Fraud Detection\n",
    "\n",
    "<a id=\"contents\"></a>\n",
    "### Contents\n",
    "#### 1. [Introduction](#intro)<br></br>\n",
    "#### 2. [Data Preprocessing](#preprocessing)<br></br>\n",
    "#### 3. [Training](#training)<br></br>\n",
    "#### 4. [Handling the Imbalance](#imbalance)<br></br>\n",
    "#### 5. [Model Evaluation](#evaluation)<br></br>\n",
    "#### 6. [Conclusions](#conclusions)<br></br>\n",
    "\n",
    "\n",
    "<a id=\"intro\"></a>\n",
    "## Introduction\n",
    "\n",
    "Credit card fraud is the unauthorized use of a credit or debit card or a similar payment tool, to fraudulently obtain money or property.\n",
    "In 2018, money lost from fraud involving credit cards worldwide reached $27.85 billion.\n",
    "It is important that credit card companies are able to detect and decline fraudulent credit card transactions so that their customers are not wrongly charged.\n",
    "This aim of this project is to create a model to detect such fraudulent transactions using data from previous transactions, gotten from [Credit Card Fraud Detection | Kaggle](https://www.kaggle.com/mlg-ulb/creditcardfraud).\n",
    "\n",
    "## Dataset Description\n",
    "\n",
    "The Dataset contains transactions made in September 2013 by European cardholders.\n",
    "It presents transactions that occurred in two days. It contains 284,807 instances, each representing a transaction. It contains 30 features. Features V1, V2, ... , V28 are the principal components obtained with PCA; the only features which have not been transformed with PCA are 'Time' and 'Amount'. This also served to anonymize the dataset to protect sensitive information. It contains only numerical input variables which are the result of a PCA transformation. \n",
    "\n",
    "| Column | Type | Description |\n",
    "| --- | :---: |:--- |\n",
    "| Time | continuous | seconds elapsed between each transaction and the first transaction in the dataset |\n",
    "| V1 | continuous | principal components obtained with PCA |\n",
    "| V2 | continuous | principal components obtained with PCA |\n",
    "| V3 | continuous | principal components obtained with PCA |\n",
    "| V4 | continuous | principal components obtained with PCA |\n",
    "| ... | ... | ... |\n",
    "| V26 | continuous | principal components obtained with PCA |\n",
    "| V27 | continuous | principal components obtained with PCA |\n",
    "| V28 | continuous | principal components obtained with PCA |\n",
    "| Amount | continuous | transaction amount |\n",
    "| Class | continuous | response variable, 1 for fraud and 0 otherwise |"
   ]
  },
  {
   "cell_type": "code",
   "execution_count": 41,
   "metadata": {
    "id": "wsNzJVjae2lx"
   },
   "outputs": [],
   "source": [
    "import numpy as np\n",
    "import pandas as pd\n",
    "import gzip\n",
    "from sklearn.model_selection import train_test_split, KFold, RandomizedSearchCV\n",
    "from sklearn.preprocessing import StandardScaler\n",
    "from sklearn.svm import SVC\n",
    "from sklearn.ensemble import RandomForestClassifier\n",
    "from xgboost import XGBClassifier \n",
    "from imblearn.over_sampling import SMOTE\n",
    "from imblearn.under_sampling import RandomUnderSampler\n",
    "from imblearn.pipeline import Pipeline\n",
    "import matplotlib.pyplot as plt\n",
    "import seaborn as sns\n",
    "%matplotlib inline\n",
    "from sklearn.metrics import precision_score, recall_score, f1_score, matthews_corrcoef,  plot_confusion_matrix\n",
    "import pickle\n",
    "\n",
    "sns.set()"
   ]
  },
  {
   "cell_type": "code",
   "execution_count": 42,
   "metadata": {
    "id": "oQoDJ5y_gv0o"
   },
   "outputs": [],
   "source": [
    "def read_csv(fn):\n",
    "    with gzip.open(fn, \"rt\", newline='', encoding=\"UTF-8\") as file:\n",
    "        return pd.read_csv(file)\n",
    "\n",
    "DATA_CACHE = None\n",
    "\n",
    "def get_data():\n",
    "    global DATA_CACHE\n",
    "    if DATA_CACHE is None:\n",
    "        DATA_CACHE = read_csv(\"creditcard.csv.gz\")\n",
    "    return DATA_CACHE"
   ]
  },
  {
   "cell_type": "code",
   "execution_count": 43,
   "metadata": {
    "id": "Oz3wVKuee2l4"
   },
   "outputs": [],
   "source": [
    "data = get_data()"
   ]
  },
  {
   "cell_type": "code",
   "execution_count": 44,
   "metadata": {
    "colab": {
     "base_uri": "https://localhost:8080/",
     "height": 224
    },
    "id": "o3rv_Flae2l7",
    "outputId": "4718b3b7-ed4d-47ca-f5d1-3282cb2eb024"
   },
   "outputs": [
    {
     "data": {
      "text/html": [
       "<div>\n",
       "<style scoped>\n",
       "    .dataframe tbody tr th:only-of-type {\n",
       "        vertical-align: middle;\n",
       "    }\n",
       "\n",
       "    .dataframe tbody tr th {\n",
       "        vertical-align: top;\n",
       "    }\n",
       "\n",
       "    .dataframe thead th {\n",
       "        text-align: right;\n",
       "    }\n",
       "</style>\n",
       "<table border=\"1\" class=\"dataframe\">\n",
       "  <thead>\n",
       "    <tr style=\"text-align: right;\">\n",
       "      <th></th>\n",
       "      <th>Time</th>\n",
       "      <th>V1</th>\n",
       "      <th>V2</th>\n",
       "      <th>V3</th>\n",
       "      <th>V4</th>\n",
       "      <th>V5</th>\n",
       "      <th>V6</th>\n",
       "      <th>V7</th>\n",
       "      <th>V8</th>\n",
       "      <th>V9</th>\n",
       "      <th>V10</th>\n",
       "      <th>V11</th>\n",
       "      <th>V12</th>\n",
       "      <th>V13</th>\n",
       "      <th>V14</th>\n",
       "      <th>V15</th>\n",
       "      <th>V16</th>\n",
       "      <th>V17</th>\n",
       "      <th>V18</th>\n",
       "      <th>V19</th>\n",
       "      <th>V20</th>\n",
       "      <th>V21</th>\n",
       "      <th>V22</th>\n",
       "      <th>V23</th>\n",
       "      <th>V24</th>\n",
       "      <th>V25</th>\n",
       "      <th>V26</th>\n",
       "      <th>V27</th>\n",
       "      <th>V28</th>\n",
       "      <th>Amount</th>\n",
       "      <th>Class</th>\n",
       "    </tr>\n",
       "  </thead>\n",
       "  <tbody>\n",
       "    <tr>\n",
       "      <th>0</th>\n",
       "      <td>0.0</td>\n",
       "      <td>-1.359807</td>\n",
       "      <td>-0.072781</td>\n",
       "      <td>2.536347</td>\n",
       "      <td>1.378155</td>\n",
       "      <td>-0.338321</td>\n",
       "      <td>0.462388</td>\n",
       "      <td>0.239599</td>\n",
       "      <td>0.098698</td>\n",
       "      <td>0.363787</td>\n",
       "      <td>0.090794</td>\n",
       "      <td>-0.551600</td>\n",
       "      <td>-0.617801</td>\n",
       "      <td>-0.991390</td>\n",
       "      <td>-0.311169</td>\n",
       "      <td>1.468177</td>\n",
       "      <td>-0.470401</td>\n",
       "      <td>0.207971</td>\n",
       "      <td>0.025791</td>\n",
       "      <td>0.403993</td>\n",
       "      <td>0.251412</td>\n",
       "      <td>-0.018307</td>\n",
       "      <td>0.277838</td>\n",
       "      <td>-0.110474</td>\n",
       "      <td>0.066928</td>\n",
       "      <td>0.128539</td>\n",
       "      <td>-0.189115</td>\n",
       "      <td>0.133558</td>\n",
       "      <td>-0.021053</td>\n",
       "      <td>149.62</td>\n",
       "      <td>0</td>\n",
       "    </tr>\n",
       "    <tr>\n",
       "      <th>1</th>\n",
       "      <td>0.0</td>\n",
       "      <td>1.191857</td>\n",
       "      <td>0.266151</td>\n",
       "      <td>0.166480</td>\n",
       "      <td>0.448154</td>\n",
       "      <td>0.060018</td>\n",
       "      <td>-0.082361</td>\n",
       "      <td>-0.078803</td>\n",
       "      <td>0.085102</td>\n",
       "      <td>-0.255425</td>\n",
       "      <td>-0.166974</td>\n",
       "      <td>1.612727</td>\n",
       "      <td>1.065235</td>\n",
       "      <td>0.489095</td>\n",
       "      <td>-0.143772</td>\n",
       "      <td>0.635558</td>\n",
       "      <td>0.463917</td>\n",
       "      <td>-0.114805</td>\n",
       "      <td>-0.183361</td>\n",
       "      <td>-0.145783</td>\n",
       "      <td>-0.069083</td>\n",
       "      <td>-0.225775</td>\n",
       "      <td>-0.638672</td>\n",
       "      <td>0.101288</td>\n",
       "      <td>-0.339846</td>\n",
       "      <td>0.167170</td>\n",
       "      <td>0.125895</td>\n",
       "      <td>-0.008983</td>\n",
       "      <td>0.014724</td>\n",
       "      <td>2.69</td>\n",
       "      <td>0</td>\n",
       "    </tr>\n",
       "    <tr>\n",
       "      <th>2</th>\n",
       "      <td>1.0</td>\n",
       "      <td>-1.358354</td>\n",
       "      <td>-1.340163</td>\n",
       "      <td>1.773209</td>\n",
       "      <td>0.379780</td>\n",
       "      <td>-0.503198</td>\n",
       "      <td>1.800499</td>\n",
       "      <td>0.791461</td>\n",
       "      <td>0.247676</td>\n",
       "      <td>-1.514654</td>\n",
       "      <td>0.207643</td>\n",
       "      <td>0.624501</td>\n",
       "      <td>0.066084</td>\n",
       "      <td>0.717293</td>\n",
       "      <td>-0.165946</td>\n",
       "      <td>2.345865</td>\n",
       "      <td>-2.890083</td>\n",
       "      <td>1.109969</td>\n",
       "      <td>-0.121359</td>\n",
       "      <td>-2.261857</td>\n",
       "      <td>0.524980</td>\n",
       "      <td>0.247998</td>\n",
       "      <td>0.771679</td>\n",
       "      <td>0.909412</td>\n",
       "      <td>-0.689281</td>\n",
       "      <td>-0.327642</td>\n",
       "      <td>-0.139097</td>\n",
       "      <td>-0.055353</td>\n",
       "      <td>-0.059752</td>\n",
       "      <td>378.66</td>\n",
       "      <td>0</td>\n",
       "    </tr>\n",
       "    <tr>\n",
       "      <th>3</th>\n",
       "      <td>1.0</td>\n",
       "      <td>-0.966272</td>\n",
       "      <td>-0.185226</td>\n",
       "      <td>1.792993</td>\n",
       "      <td>-0.863291</td>\n",
       "      <td>-0.010309</td>\n",
       "      <td>1.247203</td>\n",
       "      <td>0.237609</td>\n",
       "      <td>0.377436</td>\n",
       "      <td>-1.387024</td>\n",
       "      <td>-0.054952</td>\n",
       "      <td>-0.226487</td>\n",
       "      <td>0.178228</td>\n",
       "      <td>0.507757</td>\n",
       "      <td>-0.287924</td>\n",
       "      <td>-0.631418</td>\n",
       "      <td>-1.059647</td>\n",
       "      <td>-0.684093</td>\n",
       "      <td>1.965775</td>\n",
       "      <td>-1.232622</td>\n",
       "      <td>-0.208038</td>\n",
       "      <td>-0.108300</td>\n",
       "      <td>0.005274</td>\n",
       "      <td>-0.190321</td>\n",
       "      <td>-1.175575</td>\n",
       "      <td>0.647376</td>\n",
       "      <td>-0.221929</td>\n",
       "      <td>0.062723</td>\n",
       "      <td>0.061458</td>\n",
       "      <td>123.50</td>\n",
       "      <td>0</td>\n",
       "    </tr>\n",
       "    <tr>\n",
       "      <th>4</th>\n",
       "      <td>2.0</td>\n",
       "      <td>-1.158233</td>\n",
       "      <td>0.877737</td>\n",
       "      <td>1.548718</td>\n",
       "      <td>0.403034</td>\n",
       "      <td>-0.407193</td>\n",
       "      <td>0.095921</td>\n",
       "      <td>0.592941</td>\n",
       "      <td>-0.270533</td>\n",
       "      <td>0.817739</td>\n",
       "      <td>0.753074</td>\n",
       "      <td>-0.822843</td>\n",
       "      <td>0.538196</td>\n",
       "      <td>1.345852</td>\n",
       "      <td>-1.119670</td>\n",
       "      <td>0.175121</td>\n",
       "      <td>-0.451449</td>\n",
       "      <td>-0.237033</td>\n",
       "      <td>-0.038195</td>\n",
       "      <td>0.803487</td>\n",
       "      <td>0.408542</td>\n",
       "      <td>-0.009431</td>\n",
       "      <td>0.798278</td>\n",
       "      <td>-0.137458</td>\n",
       "      <td>0.141267</td>\n",
       "      <td>-0.206010</td>\n",
       "      <td>0.502292</td>\n",
       "      <td>0.219422</td>\n",
       "      <td>0.215153</td>\n",
       "      <td>69.99</td>\n",
       "      <td>0</td>\n",
       "    </tr>\n",
       "  </tbody>\n",
       "</table>\n",
       "</div>"
      ],
      "text/plain": [
       "   Time        V1        V2        V3  ...       V27       V28  Amount  Class\n",
       "0   0.0 -1.359807 -0.072781  2.536347  ...  0.133558 -0.021053  149.62      0\n",
       "1   0.0  1.191857  0.266151  0.166480  ... -0.008983  0.014724    2.69      0\n",
       "2   1.0 -1.358354 -1.340163  1.773209  ... -0.055353 -0.059752  378.66      0\n",
       "3   1.0 -0.966272 -0.185226  1.792993  ...  0.062723  0.061458  123.50      0\n",
       "4   2.0 -1.158233  0.877737  1.548718  ...  0.219422  0.215153   69.99      0\n",
       "\n",
       "[5 rows x 31 columns]"
      ]
     },
     "execution_count": 44,
     "metadata": {
      "tags": []
     },
     "output_type": "execute_result"
    }
   ],
   "source": [
    "data.head()"
   ]
  },
  {
   "cell_type": "code",
   "execution_count": 45,
   "metadata": {
    "colab": {
     "base_uri": "https://localhost:8080/",
     "height": 302
    },
    "id": "cucQKuuBe2mA",
    "outputId": "0f39be1d-5c4d-4205-bfec-977d75d182ee"
   },
   "outputs": [
    {
     "data": {
      "text/plain": [
       "<matplotlib.axes._subplots.AxesSubplot at 0x7faf727edd68>"
      ]
     },
     "execution_count": 45,
     "metadata": {
      "tags": []
     },
     "output_type": "execute_result"
    },
    {
     "data": {
      "image/png": "[encoded data removed]",
      "text/plain": [
       "<Figure size 432x288 with 1 Axes>"
      ]
     },
     "metadata": {
      "tags": []
     },
     "output_type": "display_data"
    }
   ],
   "source": [
    "sns.countplot(x = data.Class)"
   ]
  },
  {
   "cell_type": "markdown",
   "metadata": {
    "id": "O-5xN7Cke2mC"
   },
   "source": [
    "<a id=\"preprocessing\"></a>\n",
    "## Data Preprocessing\n",
    "The entire dataset was caled using standard scaler.\n",
    "The scaled dataset was then split into train and test sets.\n",
    "The train set was further split into training and validation sets. <br>\n",
    "[Back to Contents](#contents)"
   ]
  },
  {
   "cell_type": "code",
   "execution_count": 46,
   "metadata": {
    "id": "CSb1Cgope2mX"
   },
   "outputs": [],
   "source": [
    "#Some helper fuctions, for training, testing and evaluating.\n",
    "def evalscore(actual, predictions):\n",
    "    \"\"\"\n",
    "    Calculates the following Metrics: precision score, recall_score and f1 score.\n",
    "    \n",
    "    args:\n",
    "        actual: the actual values of the label.\n",
    "        predictions: the predictions made by the model.\n",
    "        \n",
    "    returns: a list of the metric scores [precision score, 'recall_score', 'f1_score', 'mcc']  \n",
    "    \"\"\"\n",
    "    temp = [precision_score(actual, predictions), recall_score(actual, predictions), f1_score(actual, predictions), matthews_corrcoef(actual, predictions)]\n",
    "    return temp\n",
    "\n",
    "\n",
    "def compareModels(models, xtrain, ytrain, xtest, ytest):\n",
    "    \"\"\"\n",
    "    Trains each model in models using xtrain and ytrain and evaluates on xtest and ytest.\n",
    "    It creates a dataframe showing the comparison.\n",
    "    \n",
    "    args:\n",
    "        models: a list of models to compare.\n",
    "        xtrain, ytrain: the features and labels for training.\n",
    "        xtest, ytest: the features and labels for evaluation.\n",
    "    \n",
    "    returns: tuple[trained_models, dataframe]\n",
    "            trained_models: a list of the trained models, dataframe: a dataframe showing the comparisons\n",
    "    \"\"\"\n",
    "    trained = {}\n",
    "    dt = {}\n",
    "    for model in models:\n",
    "        model.fit(xtrain, ytrain)\n",
    "        preds = model.predict(xtest)\n",
    "        dt[models[model]] = evalscore(ytest, preds)\n",
    "        trained[model] = models[model]\n",
    "    return trained, pd.DataFrame(dt, index = ['precision score', 'recall_score', 'f1_score', 'mcc'])\n",
    "\n",
    "    \n",
    "def compareModelsCV(models, x, y):\n",
    "    \"\"\"\n",
    "    Trains each model in models using and the models are validated using KFold cross validation.\n",
    "    It creates a dataframe showing the comparison.\n",
    "    \n",
    "    args:\n",
    "        models: a list of models to compare.\n",
    "        xtrain, ytrain: the features and labels for training.\n",
    "        xtest, ytest: the features and labels for evaluation.\n",
    "    \n",
    "    returns: tuple[trained_models, dataframe]\n",
    "            trained_models: a list of the trained models, dataframe: a dataframe showing the comparisons\n",
    "    \"\"\"\n",
    "    trained = {}\n",
    "    dt = {}\n",
    "    kf = KFold(n_splits = 5, shuffle = True)\n",
    "    for model in models:\n",
    "        scores = []\n",
    "        for tr, te in kf.split(x):\n",
    "            xtrain, xtest, ytrain, ytest = x[tr], x[te], y[tr], y[te]\n",
    "            model.fit(xtrain, ytrain)\n",
    "            preds = model.predict(xtest)\n",
    "            scores.append(evalscore(ytest, preds))   \n",
    "        dt[models[model]] = np.array(scores).mean(axis = 0)\n",
    "        trained[model] = models[model]\n",
    "    return trained, pd.DataFrame(dt, index = ['precision score', 'recall_score', 'f1_score', 'mcc'])\n",
    "\n",
    "def evalModels(models, x, actual):\n",
    "    \"\"\"Testing function\"\"\"\n",
    "    dt = {}\n",
    "    for model in models:\n",
    "        preds = model.predict(x)\n",
    "        dt[models[model]] = evalscore(actual, preds)\n",
    "    return pd.DataFrame(dt, index = ['precision score', 'recall_score', 'f1_score', 'mcc'])\n"
   ]
  },
  {
   "cell_type": "code",
   "execution_count": 47,
   "metadata": {
    "colab": {
     "base_uri": "https://localhost:8080/"
    },
    "id": "0yIKkw0He2ma",
    "outputId": "7bb9c8fe-c7cb-4805-df38-863eefbabc46"
   },
   "outputs": [
    {
     "name": "stdout",
     "output_type": "stream",
     "text": [
      "Traindata shape: (190820, 31)\n",
      "Evaldata shape: (93987, 31)\n"
     ]
    }
   ],
   "source": [
    "traindata, evaldata = train_test_split(data, test_size = 0.33, random_state = 97, stratify = data.Class)\n",
    "print(\"Traindata shape: {}\\nEvaldata shape: {}\".format(traindata.shape, evaldata.shape))"
   ]
  },
  {
   "cell_type": "code",
   "execution_count": 48,
   "metadata": {
    "colab": {
     "base_uri": "https://localhost:8080/"
    },
    "id": "3zbL_V7he2me",
    "outputId": "7c3eca83-dd25-4280-b526-c5a1151a43f2"
   },
   "outputs": [
    {
     "name": "stdout",
     "output_type": "stream",
     "text": [
      "Traindata:\n",
      "0    190490\n",
      "1       330\n",
      "Name: Class, dtype: int64\n",
      "\n",
      "Evaldata:\n",
      "0    93825\n",
      "1      162\n",
      "Name: Class, dtype: int64\n"
     ]
    }
   ],
   "source": [
    "print(\"Traindata:\\n{}\\n\\nEvaldata:\\n{}\".format(traindata.Class.value_counts(), evaldata.Class.value_counts()))"
   ]
  },
  {
   "cell_type": "code",
   "execution_count": 49,
   "metadata": {
    "id": "qyj7hl-Je2mg"
   },
   "outputs": [],
   "source": [
    "X, y = traindata.drop('Class', axis = 1), traindata.Class"
   ]
  },
  {
   "cell_type": "code",
   "execution_count": 16,
   "metadata": {
    "id": "CQ0_EsB7e2mh"
   },
   "outputs": [],
   "source": [
    "scaler = StandardScaler()\n",
    "scaled_data = scaler.fit_transform(X)\n",
    "scaled_data = pd.DataFrame(scaled_data, columns = X.columns)\n",
    "fx, fy = scaled_data, y"
   ]
  },
  {
   "cell_type": "markdown",
   "metadata": {
    "id": "sNyN9ZrUe2mi"
   },
   "source": [
    "<a id=\"training\"></a>\n",
    "## Training\n",
    "The models are trained using KFold cross validation.\n",
    "Support Vector Machine, Random Forest and XGBoost were used to create base models.</br>\n",
    "The f1 score was used to determine the best model and the precision score, matthew's correlation coefficient and recall score were used as reference.\n",
    "[Back to Contents](#contents)"
   ]
  },
  {
   "cell_type": "code",
   "execution_count": 50,
   "metadata": {
    "id": "PNE8rcvVe2mj"
   },
   "outputs": [],
   "source": [
    "svm = SVC()\n",
    "rf = RandomForestClassifier()\n",
    "xgb = XGBClassifier()\n",
    "models = {svm: 'SVM', rf: \"Random Forest\", xgb: \"XGBoost\"}"
   ]
  },
  {
   "cell_type": "code",
   "execution_count": null,
   "metadata": {
    "colab": {
     "base_uri": "https://localhost:8080/",
     "height": 173
    },
    "id": "y6BIcC_le2ml",
    "outputId": "192b6ede-8c58-4a89-a4ef-329d1598c631"
   },
   "outputs": [
    {
     "data": {
      "text/html": [
       "<div>\n",
       "<style scoped>\n",
       "    .dataframe tbody tr th:only-of-type {\n",
       "        vertical-align: middle;\n",
       "    }\n",
       "\n",
       "    .dataframe tbody tr th {\n",
       "        vertical-align: top;\n",
       "    }\n",
       "\n",
       "    .dataframe thead th {\n",
       "        text-align: right;\n",
       "    }\n",
       "</style>\n",
       "<table border=\"1\" class=\"dataframe\">\n",
       "  <thead>\n",
       "    <tr style=\"text-align: right;\">\n",
       "      <th></th>\n",
       "      <th>SVM</th>\n",
       "      <th>Random Forest</th>\n",
       "      <th>XGBoost</th>\n",
       "    </tr>\n",
       "  </thead>\n",
       "  <tbody>\n",
       "    <tr>\n",
       "      <th>precision score</th>\n",
       "      <td>0.941698</td>\n",
       "      <td>0.928307</td>\n",
       "      <td>0.922332</td>\n",
       "    </tr>\n",
       "    <tr>\n",
       "      <th>recall_score</th>\n",
       "      <td>0.635864</td>\n",
       "      <td>0.769390</td>\n",
       "      <td>0.777927</td>\n",
       "    </tr>\n",
       "    <tr>\n",
       "      <th>f1_score</th>\n",
       "      <td>0.757828</td>\n",
       "      <td>0.840373</td>\n",
       "      <td>0.843467</td>\n",
       "    </tr>\n",
       "    <tr>\n",
       "      <th>mcc</th>\n",
       "      <td>0.772820</td>\n",
       "      <td>0.844362</td>\n",
       "      <td>0.846554</td>\n",
       "    </tr>\n",
       "  </tbody>\n",
       "</table>\n",
       "</div>"
      ],
      "text/plain": [
       "                      SVM  Random Forest   XGBoost\n",
       "precision score  0.941698       0.928307  0.922332\n",
       "recall_score     0.635864       0.769390  0.777927\n",
       "f1_score         0.757828       0.840373  0.843467\n",
       "mcc              0.772820       0.844362  0.846554"
      ]
     },
     "execution_count": 12,
     "metadata": {
      "tags": []
     },
     "output_type": "execute_result"
    }
   ],
   "source": [
    "trained_modelsB, summaryB = compareModelsCV(models, scaled_data.values, y.values)\n",
    "summaryB"
   ]
  },
  {
   "cell_type": "markdown",
   "metadata": {
    "id": "g8JziSpIe2mm"
   },
   "source": [
    "<a id=\"imbalance\"></a>\n",
    "## Handling the imbalance\n",
    "Oversampling and undersampling techniques are applied to reduce imbalance.<br>\n",
    "SMOTE is used to oversample the positive cases and RandomUnderSampler is used to undersample the negative cases.\n",
    "[Back to Contents](#contents)"
   ]
  },
  {
   "cell_type": "code",
   "execution_count": null,
   "metadata": {
    "colab": {
     "base_uri": "https://localhost:8080/"
    },
    "id": "p6YP1120e2mn",
    "outputId": "9eff1077-787a-47eb-c10b-012e8dff38a9"
   },
   "outputs": [],
   "source": [
    "overs = SMOTE(sampling_strategy = 0.5)\n",
    "unders = RandomUnderSampler(sampling_strategy = 0.5)\n",
    "steps = [(\"over\", overs), (\"under\", unders)]\n",
    "pipe = Pipeline(steps = steps)\n",
    "X, y = pipe.fit_resample(X, y)"
   ]
  },
  {
   "cell_type": "code",
   "execution_count": 52,
   "metadata": {
    "id": "UMouZJDGe2mz"
   },
   "outputs": [],
   "source": [
    "scaler = StandardScaler()\n",
    "hiscaled_data = scaler.fit_transform(X)\n",
    "hiscaled_data = pd.DataFrame(hiscaled_data, columns = traindata.columns.drop(\"Class\"))\n",
    "hx, hy = hiscaled_data, y"
   ]
  },
  {
   "cell_type": "code",
   "execution_count": null,
   "metadata": {
    "colab": {
     "base_uri": "https://localhost:8080/",
     "height": 173
    },
    "id": "-5aAM9eSe2m0",
    "outputId": "2b0c7434-77de-4981-d788-45775e604508"
   },
   "outputs": [
    {
     "data": {
      "text/html": [
       "<div>\n",
       "<style scoped>\n",
       "    .dataframe tbody tr th:only-of-type {\n",
       "        vertical-align: middle;\n",
       "    }\n",
       "\n",
       "    .dataframe tbody tr th {\n",
       "        vertical-align: top;\n",
       "    }\n",
       "\n",
       "    .dataframe thead th {\n",
       "        text-align: right;\n",
       "    }\n",
       "</style>\n",
       "<table border=\"1\" class=\"dataframe\">\n",
       "  <thead>\n",
       "    <tr style=\"text-align: right;\">\n",
       "      <th></th>\n",
       "      <th>SVM</th>\n",
       "      <th>Random Forest</th>\n",
       "      <th>XGBoost</th>\n",
       "    </tr>\n",
       "  </thead>\n",
       "  <tbody>\n",
       "    <tr>\n",
       "      <th>precision score</th>\n",
       "      <td>0.997548</td>\n",
       "      <td>0.999581</td>\n",
       "      <td>0.994909</td>\n",
       "    </tr>\n",
       "    <tr>\n",
       "      <th>recall_score</th>\n",
       "      <td>0.990127</td>\n",
       "      <td>0.999874</td>\n",
       "      <td>0.976414</td>\n",
       "    </tr>\n",
       "    <tr>\n",
       "      <th>f1_score</th>\n",
       "      <td>0.993823</td>\n",
       "      <td>0.999727</td>\n",
       "      <td>0.985574</td>\n",
       "    </tr>\n",
       "    <tr>\n",
       "      <th>mcc</th>\n",
       "      <td>0.990769</td>\n",
       "      <td>0.999591</td>\n",
       "      <td>0.978560</td>\n",
       "    </tr>\n",
       "  </tbody>\n",
       "</table>\n",
       "</div>"
      ],
      "text/plain": [
       "                      SVM  Random Forest   XGBoost\n",
       "precision score  0.997548       0.999581  0.994909\n",
       "recall_score     0.990127       0.999874  0.976414\n",
       "f1_score         0.993823       0.999727  0.985574\n",
       "mcc              0.990769       0.999591  0.978560"
      ]
     },
     "execution_count": 22,
     "metadata": {
      "tags": []
     },
     "output_type": "execute_result"
    }
   ],
   "source": [
    "trained_modelsI, summaryI = compareModelsCV(models, hiscaled_data.values, y)\n",
    "summaryI"
   ]
  },
  {
   "cell_type": "markdown",
   "metadata": {
    "id": "S2X9io07e2m0"
   },
   "source": [
    "### Training with full data\n",
    "The best model based on the f1_score from the cross validation was used to train the entire train set.\n",
    "The XGBoost model with the imabalanced data and the RandomForest model with the balanced data gave the best results upon cross validation with the train set."
   ]
  },
  {
   "cell_type": "code",
   "execution_count": 17,
   "metadata": {
    "colab": {
     "base_uri": "https://localhost:8080/"
    },
    "id": "VVuYAHKre2m4",
    "outputId": "63547b9c-cc21-4d66-fd3b-7e89881ba618"
   },
   "outputs": [
    {
     "data": {
      "text/plain": [
       "XGBClassifier(base_score=0.5, booster='gbtree', colsample_bylevel=1,\n",
       "              colsample_bynode=1, colsample_bytree=1, gamma=0,\n",
       "              learning_rate=0.1, max_delta_step=0, max_depth=3,\n",
       "              min_child_weight=1, missing=None, n_estimators=100, n_jobs=1,\n",
       "              nthread=None, objective='binary:logistic', random_state=0,\n",
       "              reg_alpha=0, reg_lambda=1, scale_pos_weight=1, seed=None,\n",
       "              silent=None, subsample=1, verbosity=1)"
      ]
     },
     "execution_count": 17,
     "metadata": {
      "tags": []
     },
     "output_type": "execute_result"
    }
   ],
   "source": [
    "final_model = XGBClassifier()\n",
    "final_model.fit(fx, fy)"
   ]
  },
  {
   "cell_type": "code",
   "execution_count": 20,
   "metadata": {
    "colab": {
     "base_uri": "https://localhost:8080/"
    },
    "id": "1ploD--3996T",
    "outputId": "92f1cfac-1962-45d6-b90c-0e617bd43bdb"
   },
   "outputs": [
    {
     "data": {
      "text/plain": [
       "RandomForestClassifier(bootstrap=True, ccp_alpha=0.0, class_weight=None,\n",
       "                       criterion='gini', max_depth=None, max_features='auto',\n",
       "                       max_leaf_nodes=None, max_samples=None,\n",
       "                       min_impurity_decrease=0.0, min_impurity_split=None,\n",
       "                       min_samples_leaf=1, min_samples_split=2,\n",
       "                       min_weight_fraction_leaf=0.0, n_estimators=100,\n",
       "                       n_jobs=None, oob_score=False, random_state=None,\n",
       "                       verbose=0, warm_start=False)"
      ]
     },
     "execution_count": 20,
     "metadata": {
      "tags": []
     },
     "output_type": "execute_result"
    }
   ],
   "source": [
    "final_model2 = RandomForestClassifier()\n",
    "final_model2.fit(hx, hy)"
   ]
  },
  {
   "cell_type": "markdown",
   "metadata": {
    "id": "6MYU6Ju_e2m5"
   },
   "source": [
    "<a id=\"evaluation\"></a>\n",
    "## Model Evaluation\n",
    "The evaluation metric chosen was the f1 score, using the precision score, matthew's correlation coefficient and recall score as reference. This was chosen because we want our model to predict the positive cases as correctly as possible. <br>\n",
    "[Back to Contents](#contents)"
   ]
  },
  {
   "cell_type": "code",
   "execution_count": 21,
   "metadata": {
    "id": "rrYfDJSYe2m6"
   },
   "outputs": [],
   "source": [
    "scaled_test = scaler.fit_transform(evaldata.drop(\"Class\", axis = 1))\n",
    "scaled_test = pd.DataFrame(scaled_test, columns = evaldata.drop(\"Class\", axis= 1).columns)"
   ]
  },
  {
   "cell_type": "code",
   "execution_count": 22,
   "metadata": {
    "colab": {
     "base_uri": "https://localhost:8080/"
    },
    "id": "I5BUut-Ne2m7",
    "outputId": "df81eaca-4ebf-40e3-dec9-2d156401d809"
   },
   "outputs": [
    {
     "data": {
      "text/plain": [
       "0    93825\n",
       "1      162\n",
       "Name: Class, dtype: int64"
      ]
     },
     "execution_count": 22,
     "metadata": {
      "tags": []
     },
     "output_type": "execute_result"
    }
   ],
   "source": [
    "y_test = evaldata.Class\n",
    "y_test.value_counts()"
   ]
  },
  {
   "cell_type": "code",
   "execution_count": 25,
   "metadata": {
    "colab": {
     "base_uri": "https://localhost:8080/",
     "height": 173
    },
    "id": "aleaKaPue2m7",
    "outputId": "d3d6af97-ec0b-4e2a-becb-2a1468f990bc"
   },
   "outputs": [
    {
     "data": {
      "text/html": [
       "<div>\n",
       "<style scoped>\n",
       "    .dataframe tbody tr th:only-of-type {\n",
       "        vertical-align: middle;\n",
       "    }\n",
       "\n",
       "    .dataframe tbody tr th {\n",
       "        vertical-align: top;\n",
       "    }\n",
       "\n",
       "    .dataframe thead th {\n",
       "        text-align: right;\n",
       "    }\n",
       "</style>\n",
       "<table border=\"1\" class=\"dataframe\">\n",
       "  <thead>\n",
       "    <tr style=\"text-align: right;\">\n",
       "      <th></th>\n",
       "      <th>XGBoost</th>\n",
       "      <th>RandomForest</th>\n",
       "    </tr>\n",
       "  </thead>\n",
       "  <tbody>\n",
       "    <tr>\n",
       "      <th>precision score</th>\n",
       "      <td>0.933333</td>\n",
       "      <td>0.008348</td>\n",
       "    </tr>\n",
       "    <tr>\n",
       "      <th>recall_score</th>\n",
       "      <td>0.777778</td>\n",
       "      <td>0.691358</td>\n",
       "    </tr>\n",
       "    <tr>\n",
       "      <th>f1_score</th>\n",
       "      <td>0.848485</td>\n",
       "      <td>0.016497</td>\n",
       "    </tr>\n",
       "    <tr>\n",
       "      <th>mcc</th>\n",
       "      <td>0.851785</td>\n",
       "      <td>0.065168</td>\n",
       "    </tr>\n",
       "  </tbody>\n",
       "</table>\n",
       "</div>"
      ],
      "text/plain": [
       "                  XGBoost  RandomForest\n",
       "precision score  0.933333      0.008348\n",
       "recall_score     0.777778      0.691358\n",
       "f1_score         0.848485      0.016497\n",
       "mcc              0.851785      0.065168"
      ]
     },
     "execution_count": 25,
     "metadata": {
      "tags": []
     },
     "output_type": "execute_result"
    }
   ],
   "source": [
    "fdict = {final_model: \"XGBoost\", final_model2: \"RandomForest\"}\n",
    "evalModels(fdict, scaled_test, y_test)"
   ]
  },
  {
   "cell_type": "code",
   "execution_count": 39,
   "metadata": {
    "colab": {
     "base_uri": "https://localhost:8080/",
     "height": 376
    },
    "id": "-p1WTapie2m-",
    "outputId": "3a86ffad-c50d-4e79-b300-c37787cb0f03"
   },
   "outputs": [
    {
     "data": {
      "text/plain": [
       "Text(0.5, 1.0, 'RandomForest')"
      ]
     },
     "execution_count": 39,
     "metadata": {
      "tags": []
     },
     "output_type": "execute_result"
    },
    {
     "data": {
      "image/png": "[encoded data removed]",
      "text/plain": [
       "<Figure size 864x432 with 4 Axes>"
      ]
     },
     "metadata": {
      "tags": []
     },
     "output_type": "display_data"
    }
   ],
   "source": [
    "fig, axes = plt.subplots(1, 2, figsize=(12, 6))\n",
    "ax1, ax2 = axes.ravel()\n",
    "plot_confusion_matrix(final_model, scaled_test, y_test, ax = ax1)\n",
    "plot_confusion_matrix(final_model2, scaled_test, y_test, ax = ax2)\n",
    "ax1.set_title(\"XGBoost\")\n",
    "ax2.set_title(\"RandomForest\")"
   ]
  },
  {
   "cell_type": "markdown",
   "metadata": {
    "id": "X_DB3zSbMBzn"
   },
   "source": [
    "The results show that even though the balanced dataset performed very well with the train set, it's performance on new data is poor based on the prediction of positive cases.<br></br>\n",
    "On the other hand, the XGBoost model that was trained with the imbalanced data performed well with a precision score of 93% and an f1 score of 85%. Of the 162 cases, it predicted 135 positive cases of which 126 are correct."
   ]
  },
  {
   "cell_type": "markdown",
   "metadata": {
    "id": "KQvOSnwre2m_"
   },
   "source": [
    "<a id=\"conclusions\"></a>\n",
    "## Conclusions\n",
    "This project was aimed at reducing credit card fraud by detecting fraudulent transactions. Using the historic data we have been able to create a machine learning model that can predict such fraudulent transactions. The deployment of this model is dependent on the features in the dataset which were anonymized to protect sensitive data, so only the owners of the data that have these features would be able to deploy this model in practice.\n",
    "In addition, if the features were not anonymized, it might have given some more insights into the data that would have helped to improve performance.\n",
    "     \n",
    "[Back to top](#contents)"
   ]
  }
 ],
 "metadata": {
  "colab": {
   "collapsed_sections": [],
   "name": "fraud-detection-proj.ipynb",
   "provenance": []
  },
  "kernelspec": {
   "display_name": "Python 3",
   "language": "python",
   "name": "python3"
  },
  "language_info": {
   "codemirror_mode": {
    "name": "ipython",
    "version": 3
   },
   "file_extension": ".py",
   "mimetype": "text/x-python",
   "name": "python",
   "nbconvert_exporter": "python",
   "pygments_lexer": "ipython3",
   "version": "3.8.5"
  }
 },
 "nbformat": 4,
 "nbformat_minor": 1
}
